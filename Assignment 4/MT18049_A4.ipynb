{
 "cells": [
  {
   "cell_type": "markdown",
   "metadata": {},
   "source": [
    "# Assignment 4"
   ]
  },
  {
   "cell_type": "markdown",
   "metadata": {},
   "source": [
    "# Question 1"
   ]
  },
  {
   "cell_type": "markdown",
   "metadata": {},
   "source": [
    "## Imports"
   ]
  },
  {
   "cell_type": "code",
   "execution_count": 1,
   "metadata": {},
   "outputs": [],
   "source": [
    "import pandas as pd\n",
    "import matplotlib.pyplot as plt"
   ]
  },
  {
   "cell_type": "markdown",
   "metadata": {},
   "source": [
    "## Reading Data"
   ]
  },
  {
   "cell_type": "code",
   "execution_count": 2,
   "metadata": {},
   "outputs": [],
   "source": [
    "df = pd.read_table('Data/divorce_raw.raw', sep=\"\\s+\", header=None)\n",
    "df.set_axis(['id', 'heduc', 'heblack', 'mixed', 'years', 'div'], axis=1, inplace=True)"
   ]
  },
  {
   "cell_type": "markdown",
   "metadata": {},
   "source": [
    "### Dataset Description\n",
    "\n",
    "<b>id</b>: a couple number <br>\n",
    "<b>heduc</b>: education of the husband - 0 -> less than 12 years, 1 -> 12 to 15 years, 2 -> 16 or more years. <br>\n",
    "<b>heblack</b>: 1 if the husband is black. <br>\n",
    "<b>mixed</b>: 1 if husband and wife have different ethnicity, else 0. <br>\n",
    "<b>years</b>: duration of marriage <br>\n",
    "<b>div</b>: 1 for divorce; 0 for censoring <br>"
   ]
  },
  {
   "cell_type": "markdown",
   "metadata": {},
   "source": [
    "For survival analysis, 'heblack' and 'mixed' columns will be dropped. <br>\n",
    "Three groups are considered, described by the 'heduc' column."
   ]
  },
  {
   "cell_type": "code",
   "execution_count": 3,
   "metadata": {},
   "outputs": [],
   "source": [
    "del df['heblack']; del df['mixed']"
   ]
  },
  {
   "cell_type": "markdown",
   "metadata": {},
   "source": [
    "#### Rounding years to nearest integer"
   ]
  },
  {
   "cell_type": "code",
   "execution_count": 4,
   "metadata": {},
   "outputs": [],
   "source": [
    "df.years = df.years.round()\n",
    "df = df.astype({'years': int})"
   ]
  },
  {
   "cell_type": "markdown",
   "metadata": {},
   "source": [
    "#### Removing zero values"
   ]
  },
  {
   "cell_type": "code",
   "execution_count": 5,
   "metadata": {},
   "outputs": [],
   "source": [
    "df = df[df.years != 0]"
   ]
  },
  {
   "cell_type": "markdown",
   "metadata": {},
   "source": [
    "#### Separating data into three groups based on the education of husband"
   ]
  },
  {
   "cell_type": "code",
   "execution_count": 6,
   "metadata": {},
   "outputs": [],
   "source": [
    "df0 = df[df['heduc'] == 0]; del df0['heduc']; df0 = df0.sort_values(by=['years']);\n",
    "df1 = df[df['heduc'] == 1]; del df1['heduc']; df1 = df1.sort_values(by=['years']);\n",
    "df2 = df[df['heduc'] == 2]; del df2['heduc']; df2 = df2.sort_values(by=['years']);"
   ]
  },
  {
   "cell_type": "markdown",
   "metadata": {},
   "source": [
    "## Kaplan-Meier Survival Plot"
   ]
  },
  {
   "cell_type": "code",
   "execution_count": 7,
   "metadata": {},
   "outputs": [],
   "source": [
    "def calcMDC(df, i):\n",
    "    m = 0; d = 0; c = 0;\n",
    "    for j, row in df.iterrows():\n",
    "        if df.at[j, 'years'] > i:\n",
    "            m += 1\n",
    "        elif df.at[j, 'years'] == i:\n",
    "            m += 1\n",
    "            if df.at[j, 'div'] == 1:\n",
    "                d += 1\n",
    "            else:\n",
    "                c += 1\n",
    "    return m, d, c"
   ]
  },
  {
   "cell_type": "code",
   "execution_count": 8,
   "metadata": {},
   "outputs": [],
   "source": [
    "def calcCP(df):\n",
    "    cp = [df.iloc[0]];\n",
    "    for i, d in enumerate(df):\n",
    "        if i > 0:\n",
    "            cp.append(d*cp[i-1])\n",
    "    return cp"
   ]
  },
  {
   "cell_type": "code",
   "execution_count": 9,
   "metadata": {},
   "outputs": [],
   "source": [
    "def KMatrix(df):\n",
    "    max_val = df['years'].max()\n",
    "    columns = ['Year', '#_of_couples_@_y', '#_of_divorces_@_y', '#_of_censored_couples', 'Prob_D', 'Comp_Prob_D']\n",
    "    km_df = pd.DataFrame(columns=columns)\n",
    "    for y in range(max_val+1):\n",
    "        m, d, c = calcMDC(df, y)    #M=Married, D=Divorced, C=Censored\n",
    "        km_df.loc[y] = [y+1, m, d, c, d/m, 1-(d/m)]\n",
    "    # Calculate cumulative probability\n",
    "    cum_P = calcCP(km_df['Comp_Prob_D'])\n",
    "    km_df['C_Prob'] = cum_P\n",
    "    return km_df"
   ]
  },
  {
   "cell_type": "code",
   "execution_count": 10,
   "metadata": {},
   "outputs": [],
   "source": [
    "km_df_0 = KMatrix(df0)\n",
    "km_df_1 = KMatrix(df1)\n",
    "km_df_2 = KMatrix(df2)"
   ]
  },
  {
   "cell_type": "code",
   "execution_count": 11,
   "metadata": {},
   "outputs": [
    {
     "data": {
      "image/png": "[encoded data removed]",
      "text/plain": [
       "<Figure size 432x288 with 1 Axes>"
      ]
     },
     "metadata": {
      "needs_background": "light"
     },
     "output_type": "display_data"
    }
   ],
   "source": [
    "plt.plot(km_df_0['Year'], km_df_0['C_Prob'])\n",
    "plt.plot(km_df_1['Year'], km_df_1['C_Prob'])\n",
    "plt.plot(km_df_2['Year'], km_df_2['C_Prob'])\n",
    "plt.xlabel(\"Years\")\n",
    "plt.ylabel(\"Cumulative Probability of Survival\")\n",
    "plt.title(\"KM Survival Plot for Marriage Dissolution\")\n",
    "plt.legend(['Education < 12 years', 'Education bw 12 to 15 years', 'Education >= 16 years'])\n",
    "plt.show()"
   ]
  },
  {
   "cell_type": "markdown",
   "metadata": {},
   "source": [
    "## Log-rank Test"
   ]
  },
  {
   "cell_type": "markdown",
   "metadata": {},
   "source": [
    "For this test, only two groups ('Education bw 12 to 15 years' and 'Education >= 16 years') shall be considered."
   ]
  },
  {
   "cell_type": "code",
   "execution_count": 12,
   "metadata": {},
   "outputs": [],
   "source": [
    "def LogRankTest(df1, df2):\n",
    "    cdf = pd.concat([df1, df2], axis=1)\n",
    "    cdf = cdf.assign(TOT_RSKS = cdf.N_of_couples_1 + cdf.N_of_couples_2)\n",
    "    cdf = cdf.assign(TOT_EVNTS = cdf.N_of_divorces_1 + cdf.N_of_divorces_2)\n",
    "    cdf = cdf.assign(EXP_EVNTS_1 = cdf.N_of_couples_1*(cdf.TOT_EVNTS/cdf.TOT_RSKS))\n",
    "    cdf = cdf.assign(EXP_EVNTS_2 = cdf.N_of_couples_2*(cdf.TOT_EVNTS/cdf.TOT_RSKS))\n",
    "    return list(cdf.sum(axis=0, skipna=True))"
   ]
  },
  {
   "cell_type": "code",
   "execution_count": 13,
   "metadata": {},
   "outputs": [],
   "source": [
    "df1_mod = km_df_1; df2_mod = km_df_2;\n",
    "df1_mod.drop(['Year', '#_of_censored_couples', 'Prob_D', 'Comp_Prob_D', 'C_Prob'], axis=1, inplace=True)\n",
    "df1_mod.columns = ['N_of_couples_1', 'N_of_divorces_1']\n",
    "df2_mod.drop(['Year', '#_of_censored_couples', 'Prob_D', 'Comp_Prob_D', 'C_Prob'], axis=1, inplace=True)\n",
    "df2_mod.columns = ['N_of_couples_2', 'N_of_divorces_2']"
   ]
  },
  {
   "cell_type": "code",
   "execution_count": 14,
   "metadata": {},
   "outputs": [
    {
     "name": "stdout",
     "output_type": "stream",
     "text": [
      "Value of Chi-Square: 8.446842420406547\n",
      "Since value of chi-square is greater than 3.84, null hypthesis is rejected. There is significant evidence that the two survival curves are different.\n"
     ]
    }
   ],
   "source": [
    "res_list = LogRankTest(df1_mod, df2_mod)\n",
    "chi_sq = (((res_list[1] - res_list[6])**2)/res_list[6]) + (((res_list[3] - res_list[7])**2)/res_list[7])\n",
    "print(\"Value of Chi-Square: \" + str(chi_sq))\n",
    "print(\"Since value of chi-square is greater than 3.84, null hypthesis is rejected. There is significant evidence that the two survival curves are different.\")"
   ]
  },
  {
   "cell_type": "markdown",
   "metadata": {},
   "source": [
    "## Median Survival"
   ]
  },
  {
   "cell_type": "markdown",
   "metadata": {},
   "source": [
    "From the above graph, median survival (survival probability of 50%) for the groups are: <br>\n",
    "\n",
    "Education < 12 years = 25 years <br>\n",
    "Education bw 12 and 15 years = 18 years <br>\n",
    "Education >= 16 years = 30 years"
   ]
  },
  {
   "cell_type": "markdown",
   "metadata": {},
   "source": [
    "# Question 2"
   ]
  },
  {
   "cell_type": "markdown",
   "metadata": {},
   "source": [
    "## Imports"
   ]
  },
  {
   "cell_type": "code",
   "execution_count": 15,
   "metadata": {},
   "outputs": [],
   "source": [
    "import numpy as np"
   ]
  },
  {
   "cell_type": "markdown",
   "metadata": {},
   "source": [
    "## Generate Data"
   ]
  },
  {
   "cell_type": "code",
   "execution_count": 16,
   "metadata": {},
   "outputs": [],
   "source": [
    "grp1 = np.random.exponential(5, 100).round()\n",
    "grp2 = np.random.exponential(8, 100).round()"
   ]
  },
  {
   "cell_type": "code",
   "execution_count": 17,
   "metadata": {},
   "outputs": [],
   "source": [
    "grp1_mod = [x if x != 0 else 1.0 for x in grp1]\n",
    "grp1_mod = list(map(int, grp1_mod))\n",
    "grp2_mod = [x if x != 0 else 1.0 for x in grp2]\n",
    "grp2_mod = list(map(int, grp2_mod))"
   ]
  },
  {
   "cell_type": "code",
   "execution_count": 18,
   "metadata": {},
   "outputs": [],
   "source": [
    "def censorData(data):\n",
    "    max_val = max(data)\n",
    "    df = pd.DataFrame(columns=['death_after', 'status'])    # death_after -> Death after no. of days, status -> 1 - record censored, 0 - not censored\n",
    "    censor = np.random.choice([0, 1], 100, [0.9, 0.1])\n",
    "    for d in range(100):\n",
    "        df.loc[d] = [data[d], censor[d]]\n",
    "    return df"
   ]
  },
  {
   "cell_type": "code",
   "execution_count": 19,
   "metadata": {},
   "outputs": [],
   "source": [
    "df1 = censorData(grp1_mod)\n",
    "df2 = censorData(grp2_mod)"
   ]
  },
  {
   "cell_type": "markdown",
   "metadata": {},
   "source": [
    "## KM Plot"
   ]
  },
  {
   "cell_type": "code",
   "execution_count": 20,
   "metadata": {},
   "outputs": [],
   "source": [
    "def calcRecord(df, i):\n",
    "    c = 0; d = 0; cn = 0;\n",
    "    for j, row in df.iterrows():\n",
    "        if df.at[j, 'death_after'] > i:\n",
    "            c += 1\n",
    "        elif df.at[j, 'death_after'] == i:\n",
    "            c += 1\n",
    "            if df.at[j, 'status'] == 0:\n",
    "                d += 1\n",
    "            else:\n",
    "                cn += 1\n",
    "    return c, d, cn"
   ]
  },
  {
   "cell_type": "code",
   "execution_count": 21,
   "metadata": {},
   "outputs": [],
   "source": [
    "def KMChart(df):\n",
    "    max_val = df['death_after'].max()\n",
    "    columns = ['day', 'current', 'deaths', 'censored', 'p', 'p_dash']\n",
    "    km_df = pd.DataFrame(columns=columns)\n",
    "    for y in range(max_val+1):\n",
    "        c, d, cn = calcRecord(df, y)\n",
    "        km_df.loc[y] = [y+1, c, d, cn, d/c, 1-(d/c)]\n",
    "    # Calculate cumulative probability\n",
    "    cum_P = calcCP(km_df['p_dash'])\n",
    "    km_df['P'] = cum_P\n",
    "    return km_df"
   ]
  },
  {
   "cell_type": "code",
   "execution_count": 22,
   "metadata": {},
   "outputs": [],
   "source": [
    "km_df_1 = KMChart(df1)\n",
    "km_df_2 = KMChart(df2)"
   ]
  },
  {
   "cell_type": "code",
   "execution_count": 23,
   "metadata": {},
   "outputs": [
    {
     "data": {
      "image/png": "[encoded data removed]",
      "text/plain": [
       "<Figure size 432x288 with 1 Axes>"
      ]
     },
     "metadata": {
      "needs_background": "light"
     },
     "output_type": "display_data"
    }
   ],
   "source": [
    "plt.plot(km_df_1['day'], km_df_1['P'])\n",
    "plt.plot(km_df_2['day'], km_df_2['P'])\n",
    "plt.xlabel(\"Days\")\n",
    "plt.ylabel(\"Cumulative Probability of Survival\")\n",
    "plt.title(\"KM Survival Plot\")\n",
    "plt.legend(['Group 1', 'Group 2'])\n",
    "plt.show()"
   ]
  },
  {
   "cell_type": "markdown",
   "metadata": {},
   "source": [
    "## Log-rank Test"
   ]
  },
  {
   "cell_type": "code",
   "execution_count": 24,
   "metadata": {},
   "outputs": [],
   "source": [
    "def LogRankTest2(df1, df2):\n",
    "    cdf = pd.concat([df1, df2], axis=1)\n",
    "    cdf = cdf.assign(TOT_RSKS = cdf.current_1 + cdf.current_2)\n",
    "    cdf = cdf.assign(TOT_EVNTS = cdf.deaths_1 + cdf.deaths_2)\n",
    "    cdf = cdf.assign(EXP_EVNTS_1 = cdf.current_1*(cdf.TOT_EVNTS/cdf.TOT_RSKS))\n",
    "    cdf = cdf.assign(EXP_EVNTS_2 = cdf.current_2*(cdf.TOT_EVNTS/cdf.TOT_RSKS))\n",
    "    return list(cdf.sum(axis=0, skipna=True))"
   ]
  },
  {
   "cell_type": "code",
   "execution_count": 25,
   "metadata": {},
   "outputs": [],
   "source": [
    "df1_mod = km_df_1; df2_mod = km_df_2;\n",
    "df1_mod.drop(['day', 'censored', 'p', 'p_dash', 'P'], axis=1, inplace=True)\n",
    "df1_mod.columns = ['current_1', 'deaths_1']\n",
    "df2_mod.drop(['day', 'censored', 'p', 'p_dash', 'P'], axis=1, inplace=True)\n",
    "df2_mod.columns = ['current_2', 'deaths_2']"
   ]
  },
  {
   "cell_type": "code",
   "execution_count": 27,
   "metadata": {},
   "outputs": [
    {
     "name": "stdout",
     "output_type": "stream",
     "text": [
      "Value of Chi-Square: 4.035041866257284\n",
      "Since value of chi-square is greater than 3.84, null hypthesis is rejected. There is significant evidence that the two survival curves are different.\n"
     ]
    }
   ],
   "source": [
    "res_list = LogRankTest2(df1_mod, df2_mod)\n",
    "chi_sq = (((res_list[1] - res_list[6])**2)/res_list[6]) + (((res_list[3] - res_list[7])**2)/res_list[7])\n",
    "print(\"Value of Chi-Square: \" + str(chi_sq))\n",
    "print(\"Since value of chi-square is greater than 3.84, null hypthesis is rejected. There is significant evidence that the two survival curves are different.\")"
   ]
  },
  {
   "cell_type": "markdown",
   "metadata": {},
   "source": [
    "# References\n",
    "\n",
    "1. Dataset - Lillard and Panis (2000), aML Multilevel Multiprocess Statistical Software, Release 1.0, EconWare, LA, California. <br>\n",
    "2. Comparing Survival Curves - http://sphweb.bumc.bu.edu/otlt/MPH-Modules/BS/BS704_Survival/BS704_Survival5.html <br>\n",
    "3. Survival Analysis Tutorial - https://www.youtube.com/watch?v=tiCyQp29nwA&list=WL&index=5&t=0s <br>"
   ]
  }
 ],
 "metadata": {
  "kernelspec": {
   "display_name": "Python 3",
   "language": "python",
   "name": "python3"
  },
  "language_info": {
   "codemirror_mode": {
    "name": "ipython",
    "version": 3
   },
   "file_extension": ".py",
   "mimetype": "text/x-python",
   "name": "python",
   "nbconvert_exporter": "python",
   "pygments_lexer": "ipython3",
   "version": "3.7.4"
  }
 },
 "nbformat": 4,
 "nbformat_minor": 4
}
